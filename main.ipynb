{
 "cells": [
  {
   "cell_type": "code",
   "execution_count": null,
   "metadata": {},
   "outputs": [],
   "source": [
    "import time\n",
    "import numpy as np\n",
    "from threading import Timer\n",
    "from binance.cm_futures import CMFutures\n",
    "from config.main import API_KEY, SECRET_KEY\n",
    "\n",
    "\n",
    "cm_futures_client = CMFutures(key=API_KEY, secret=SECRET_KEY)\n",
    "\n",
    "# Get account information\n",
    "print(cm_futures_client.account())\n",
    "\n"
   ]
  },
  {
   "cell_type": "code",
   "execution_count": 1,
   "metadata": {},
   "outputs": [
    {
     "name": "stdout",
     "output_type": "stream",
     "text": [
      "1667631600000 21391.10 21393.50 21375.00 21376.70 1269.855\n",
      "账户余额: {'accountAlias': 'oCmYSgoCTiSgFz', 'asset': 'USDT', 'balance': '1.65266397', 'crossWalletBalance': '1.65266397', 'crossUnPnl': '0.08520056', 'availableBalance': '1.49459741', 'maxWithdrawAmount': '1.49459741', 'marginAvailable': True, 'updateTime': 1667632119120}\n",
      "其他类型数据:{'id': 1, 'result': None}\n"
     ]
    },
    {
     "ename": "KeyboardInterrupt",
     "evalue": "",
     "output_type": "error",
     "traceback": [
      "\u001b[0;31m---------------------------------------------------------------------------\u001b[0m",
      "\u001b[0;31mKeyboardInterrupt\u001b[0m                         Traceback (most recent call last)",
      "Cell \u001b[0;32mIn [1], line 104\u001b[0m\n\u001b[1;32m     97\u001b[0m ws_client\u001b[38;5;241m.\u001b[39muser_data(\n\u001b[1;32m     98\u001b[0m     listen_key\u001b[38;5;241m=\u001b[39mresponse[\u001b[38;5;124m\"\u001b[39m\u001b[38;5;124mlistenKey\u001b[39m\u001b[38;5;124m\"\u001b[39m],\n\u001b[1;32m     99\u001b[0m     \u001b[38;5;28mid\u001b[39m\u001b[38;5;241m=\u001b[39m\u001b[38;5;241m1\u001b[39m,\n\u001b[1;32m    100\u001b[0m     callback\u001b[38;5;241m=\u001b[39mmessage_handler,\n\u001b[1;32m    101\u001b[0m )\n\u001b[1;32m    103\u001b[0m \u001b[38;5;28;01mwhile\u001b[39;00m \u001b[38;5;28;01mTrue\u001b[39;00m:\n\u001b[0;32m--> 104\u001b[0m     time\u001b[38;5;241m.\u001b[39msleep(\u001b[38;5;241m1\u001b[39m)\n\u001b[1;32m    106\u001b[0m \u001b[38;5;66;03m# logging.debug(\"closing ws connection\")\u001b[39;00m\n\u001b[1;32m    107\u001b[0m ws_client\u001b[38;5;241m.\u001b[39mstop()\n",
      "\u001b[0;31mKeyboardInterrupt\u001b[0m: "
     ]
    }
   ],
   "source": [
    "import time\n",
    "import logging\n",
    "from binance.lib.utils import config_logging\n",
    "from binance.um_futures import UMFutures\n",
    "from binance.websocket.um_futures.websocket_client import UMFuturesWebsocketClient\n",
    "from config.main import API_KEY, SECRET_KEY\n",
    "from binance.error import ClientError\n",
    "\n",
    "\n",
    "# config_logging(logging, logging.DEBUG)\n",
    "\n",
    "\n",
    "def message_handler(message):\n",
    "    result = message.copy()\n",
    "    if result.get('e') is None:\n",
    "        print(f\"其他类型数据:{result}\")\n",
    "        return\n",
    "\n",
    "    if \"ORDER_TRADE_UPDATE\" in result.get('e'):\n",
    "        x = result.get('o')\n",
    "        if x.get('x') == 'TRADE' and x.get('X') == 'FILLED':\n",
    "            print(f\"订单变动, {x}\")\n",
    "    elif \"ACCOUNT_UPDATE\" in result.get('e'):\n",
    "        positions = result.get('a').get('P')\n",
    "        x = [x for x in positions if x.get('ps') == 'LONG'][0]\n",
    "        print(f\"持仓数据: {positions}\")\n",
    "        print(f\"持仓数据: {x}\")\n",
    "    else:\n",
    "        print(f\"其他类型数据:{result}\")\n",
    "\n",
    "\n",
    "api_key = API_KEY\n",
    "client = UMFutures(key=API_KEY, secret=SECRET_KEY)\n",
    "response = client.new_listen_key()\n",
    "\n",
    "# klines = client.klines(\"BTCUSDT\", \"15m\", limit=\"96\")\n",
    "klines = client.klines(\"BTCUSDT\", \"15m\", limit=\"2\")\n",
    "# print(f\"btc 1d data: {klines}\")\n",
    "\n",
    "for kline in klines[-1:]:\n",
    "    id, open, high, low, close, volume, *other = kline\n",
    "    print(id, open, high, low, close, volume)\n",
    "\n",
    "# 监控脚本需要用到的交易对信息\n",
    "# result = client.exchange_info()\n",
    "# result = [x for x in result.get('symbols') if x.get(\n",
    "#     'status') == 'TRADING' and \"USDT\" in x.get('symbol')]\n",
    "# print(f\"交易对: {result}\")\n",
    "\n",
    "# 开/平 仓 LONG BUY 开多 LONG SELL 平空 SHORT SELL 开空 SHORT BUY 平多\n",
    "# try:\n",
    "#     result = client.new_order(\n",
    "#         symbol=\"1000SHIBUSDT\",\n",
    "#         side=\"SELL\",\n",
    "#         type=\"LIMIT\",\n",
    "#         quantity=2,\n",
    "#         positionSide='LONG',\n",
    "#         timeInForce=\"GTC\",\n",
    "#         price=0.0122,\n",
    "#     )\n",
    "#     print(f\"下单成功: {result}\")\n",
    "# except ClientError as error:\n",
    "#     print(\n",
    "#         \"Found error. status: {}, error code: {}, error message: {}\".format(\n",
    "#             error.status_code, error.error_code, error.error_message\n",
    "#         )\n",
    "#     )\n",
    "\n",
    "# 撤销symbol 所有订单\n",
    "# try:\n",
    "#     result = client.cancel_open_orders(symbol=\"1000SHIBUSDT\", recvWindow=2000)\n",
    "#     print(f\"撤单成功: {result}\")\n",
    "# except ClientError as error:\n",
    "#     print(\n",
    "#         \"Found error. status: {}, error code: {}, error message: {}\".format(\n",
    "#             error.status_code, error.error_code, error.error_message\n",
    "#         )\n",
    "#     )\n",
    "\n",
    "# 账户余额\n",
    "try:\n",
    "    result = client.balance(recvWindow=6000)\n",
    "    x = [x for x in result if x.get('asset') == \"USDT\"][0]\n",
    "    print(f\"账户余额: {x}\")\n",
    "except ClientError as error:\n",
    "    print(\n",
    "        \"Found error. status: {}, error code: {}, error message: {}\".format(\n",
    "            error.status_code, error.error_code, error.error_message\n",
    "        )\n",
    "    )\n",
    "\n",
    "logging.info(\"Listen key : {}\".format(response[\"listenKey\"]))\n",
    "\n",
    "ws_client = UMFuturesWebsocketClient()\n",
    "ws_client.start()\n",
    "\n",
    "ws_client.user_data(\n",
    "    listen_key=response[\"listenKey\"],\n",
    "    id=1,\n",
    "    callback=message_handler,\n",
    ")\n",
    "\n",
    "while True:\n",
    "    time.sleep(1)\n",
    "\n",
    "# logging.debug(\"closing ws connection\")\n",
    "ws_client.stop()\n"
   ]
  },
  {
   "cell_type": "code",
   "execution_count": null,
   "metadata": {},
   "outputs": [],
   "source": [
    "symbol = '23132'\n",
    "lever_rate = '111'\n",
    "\n",
    "symbol, lever_rate = {\n",
    "    \"symbol\": 'btc',\n",
    "    \"lever_rate\": '200'\n",
    "}.values()\n",
    "print(symbol, lever_rate)\n",
    "\n",
    "type('123')"
   ]
  },
  {
   "cell_type": "code",
   "execution_count": null,
   "metadata": {},
   "outputs": [],
   "source": [
    "import subprocess\n",
    "import json\n",
    "\n",
    "out = subprocess.run('pm2 jlist', stdout=subprocess.PIPE, shell=True)\n",
    "\n",
    "for item in json.loads(out.stdout):\n",
    "    print(item.get('name'), item.get('pm2_env').get('status'))\n",
    "\n",
    "\n"
   ]
  },
  {
   "cell_type": "code",
   "execution_count": null,
   "metadata": {},
   "outputs": [],
   "source": [
    "thisdict = {\n",
    "  \"brand\": \"Ford\",\n",
    "  \"model\": \"Mustang\",\n",
    "  \"year\": 1964,\n",
    "  \"year\": 2020\n",
    "}\n",
    "len(thisdict)\n",
    "# thisdict['aaa'] = 345\n",
    "# thisdict\n",
    "# float('-inf')\n"
   ]
  },
  {
   "cell_type": "code",
   "execution_count": null,
   "metadata": {},
   "outputs": [],
   "source": [
    "i = 'sell'\n",
    "\n",
    "'sell' if i == 'buy' else 'buy'\n",
    "\n",
    "3 / 4 <= 1/2"
   ]
  },
  {
   "cell_type": "code",
   "execution_count": null,
   "metadata": {},
   "outputs": [],
   "source": [
    "import numpy as np\n",
    "\n",
    "np.linspace(0, 0.01, num=5).tolist()\n",
    "\n",
    "# [1, 2, 4, 8, 16, 32, 64, 128, 256, 512, 1024, 2048, 4096, 8192][:5]\n",
    "# [0.01, 0.0075, 0.005, 0.0025, 0.0]\n",
    "# [0.0, 0.0025, 0.005, 0.0075, 0.01]"
   ]
  },
  {
   "cell_type": "code",
   "execution_count": null,
   "metadata": {},
   "outputs": [],
   "source": [
    "import numpy as np\n",
    "\n",
    "np.linspace(0.01, -0.01, num=5).tolist()"
   ]
  },
  {
   "cell_type": "code",
   "execution_count": null,
   "metadata": {},
   "outputs": [],
   "source": [
    "a = ['btc', 'etc', 'doge', 'clv', 'fil'] # 原pm2 列表\n",
    "\n",
    "b = ['btc', 'eth', 'fil', 'icp', 'shib'] # 最新的lists\n",
    "\n",
    "for item in a:\n",
    "    if not item in b:\n",
    "        print(f\"需要delete的service: {item}\")\n",
    "\n",
    "for item in b:\n",
    "    if not item in a:\n",
    "        print(f\"需要create的service: {item}\")\n"
   ]
  },
  {
   "cell_type": "code",
   "execution_count": null,
   "metadata": {},
   "outputs": [],
   "source": [
    "def a(b: str):\n",
    "    return (1, b)\n",
    "\n",
    "c, x = a('111')\n",
    "\n",
    "print(c,x)"
   ]
  },
  {
   "cell_type": "code",
   "execution_count": null,
   "metadata": {},
   "outputs": [],
   "source": [
    "result = [{'change': 17.448955644214966, 'name': 'nkn_buy_radical', 'direction': 'buy', 'lever_rate': 20}, {'change': 12.875613821687612, 'name': 'chz_buy_radical', 'direction': 'buy', 'lever_rate': 75}, {'change': 23.94685187981277, 'name': 'mina_buy_radical', 'direction': 'buy', 'lever_rate': 20}, {'change': 8.907172241101762, 'name': 'luna_buy_radical', 'direction': 'buy', 'lever_rate': 10}, {'change': 23.855791357709023, 'name': 'grt_buy_radical', 'direction': 'buy', 'lever_rate': 50}, {'change': 17.10332868398237, 'name': 'xcn_sell_radical', 'direction': 'sell', 'lever_rate': 10}, {'change': 11.84615384615384, 'name': 'agld_buy_radical', 'direction': 'buy', 'lever_rate': 20}, {'change': 17.35213059147763, 'name': 'op_buy_radical', 'direction': 'buy', 'lever_rate': 10}, {'change': 9.121909633418586, 'name': 'ren_buy_radical', 'direction': 'buy', 'lever_rate': 20}, {'change': 9.369154905628296, 'name': 'ethw_buy_radical', 'direction': 'buy', 'lever_rate': 10}, {'change': 8.543689320388358, 'name': 'alice_buy_radical', 'direction': 'buy', 'lever_rate': 50}, {'change': 12.190082644628095, 'name': 'icp_buy_radical', 'direction': 'buy', 'lever_rate': 50}, {'change': 23.1704465747019, 'name': 'storj_buy_radical', 'direction': 'buy', 'lever_rate': 50}, {'change': 8.6930014505855, 'name': 'gmt_buy_radical', 'direction': 'buy', 'lever_rate': 75}, {'change': 8.569271423178552, 'name': 'qtum_buy_radical', 'direction': 'buy', 'lever_rate': 50}, {'change': 15.64986737400531, 'name': 'lina_buy_radical', 'direction': 'buy', 'lever_rate': 20}, {'change': 33.08550185873605, 'name': 'people_buy_radical', 'direction': 'buy', 'lever_rate': 50}, {'change': 10.078979784073619, 'name': 'ape_buy_radical', 'direction': 'buy', 'lever_rate': 75}, {'change': 31.76848874598071, 'name': 'flow_buy_radical', 'direction': 'buy', 'lever_rate': 20}, {'change': 8.973386249562273, 'name': 'algo_buy_radical', 'direction': 'buy', 'lever_rate': 50}, {'change': 11.027127438106525, 'name': 'waves_buy_radical', 'direction': 'buy', 'lever_rate': 50}, {'change': 10.199714693295297, 'name': 'celr_buy_radical', 'direction': 'buy', 'lever_rate': 20}, {'change': 9.178395284494174, 'name': 'lrc_buy_radical', 'direction': 'buy', 'lever_rate': 50}, {'change': 12.844666862918263, 'name': 'ht_buy_radical', 'direction': 'buy', 'lever_rate': 20}, {'change': 8.793663688058476, 'name': 'reef_buy_radical', 'direction': 'buy', 'lever_rate': 20}, {'change': 12.758620689655176, 'name': 'dydx_buy_radical', 'direction': 'buy', 'lever_rate': 50}, {'change': 12.646954043462774, 'name': 'ankr_buy_radical', 'direction': 'buy', 'lever_rate': 20}, {'change': 36.8681350278912, 'name': 'api3_buy_radical', 'direction': 'buy', 'lever_rate': 20}, {'change': 8.091653297132746, 'name': 'zrx_buy_radical', 'direction': 'buy', 'lever_rate': 20}, {'change': 8.365921174041041, 'name': 'uni_buy_radical', 'direction': 'buy', 'lever_rate': 50}, {'change': 17.245461720599856, 'name': 'fil_buy_radical', 'direction': 'buy', 'lever_rate': 75}, {'change': 12.745762711864414, 'name': 'c98_buy_radical', 'direction': 'buy', 'lever_rate': 20}, {'change': 17.54025023324801, 'name': 'matic_buy_radical', 'direction': 'buy', 'lever_rate': 75}, {'change': 12.73908555467848, 'name': 'arpa_buy_radical', 'direction': 'buy', 'lever_rate': 20}, {'change': 11.54540636201119, 'name': 'theta_buy_radical', 'direction': 'buy', 'lever_rate': 50}, {'change': 17.75825346112887, 'name': 'bico_buy_radical', 'direction': 'buy', 'lever_rate': 20}, {'change': 13.894477253553116, 'name': 'ens_buy_radical', 'direction': 'buy', 'lever_rate': 50}, {'change': 25.28318985047577, 'name': 'lpt_buy_radical', 'direction': 'buy', 'lever_rate': 20}, {'change': 10.43620346689401, 'name': 'chr_buy_radical', 'direction': 'buy', 'lever_rate': 20}, {'change': 29.832464442982243, 'name': 'gal_buy_radical', 'direction': 'buy', 'lever_rate': 50}, {'change': 8.875477548308512, 'name': 'one_buy_radical', 'direction': 'buy', 'lever_rate': 50}, {'change': 15.67751400373432, 'name': 'sushi_buy_radical', 'direction': 'buy', 'lever_rate': 50}, {'change': 18.50970340534604, 'name': 'ltc_buy_radical', 'direction': 'buy', 'lever_rate': 75}, {'change': 8.295547931428835, 'name': 'avax_buy_radical', 'direction': 'buy', 'lever_rate': 75}, {'change': 9.297413793103448, 'name': 'snx_buy_radical', 'direction': 'buy', 'lever_rate': 50}, {'change': 8.060584958217275, 'name': 'egld_buy_radical', 'direction': 'buy', 'lever_rate': 20}, {'change': 17.41973840665873, 'name': 'jasmy_buy_radical', 'direction': 'buy', 'lever_rate': 50}, {'change': 18.862174060277674, 'name': 'bat_buy_radical', 'direction': 'buy', 'lever_rate': 20}]\n",
    "\n",
    "result.sort(key=lambda x: x.get('change'))\n",
    "print(result[-5:])"
   ]
  },
  {
   "cell_type": "code",
   "execution_count": null,
   "metadata": {},
   "outputs": [],
   "source": [
    "import numpy as np\n",
    "print(np.linspace(0, 0.01, num=5).tolist())\n",
    "print(np.linspace(0.05, 0.01, num=5).tolist())"
   ]
  },
  {
   "cell_type": "code",
   "execution_count": null,
   "metadata": {},
   "outputs": [],
   "source": [
    "[float(item) for item in \"123.3,2,2,2\".split(',')]"
   ]
  },
  {
   "cell_type": "code",
   "execution_count": null,
   "metadata": {},
   "outputs": [],
   "source": [
    "import math\n",
    "\n",
    "math.floor(199.123123 / 100) * 4\n",
    "\n",
    "'SECRET_KEY'.lower()"
   ]
  },
  {
   "cell_type": "code",
   "execution_count": null,
   "metadata": {},
   "outputs": [],
   "source": [
    "curr = 0\n",
    "ss = 1\n",
    "\n",
    "def a():\n",
    "    global curr, ss \n",
    "    curr = 1\n",
    "    ss = 2\n",
    "\n",
    "a()\n",
    "print(curr, ss)"
   ]
  },
  {
   "cell_type": "code",
   "execution_count": null,
   "metadata": {},
   "outputs": [],
   "source": [
    "'start main.py --name clv_buy --interpreter python3 -- --symbol CLV --max_cnt 5 --direction buy --margin_call \"0.0,0.0025,0.005,0.0075,0.01\" --close_call \"0.05,0.04,0.03,0.02,0.01\"'.split(' ')"
   ]
  }
 ],
 "metadata": {
  "interpreter": {
   "hash": "6ee389b6fd5680d01c44917c1212b4c09ead7d0a63469ff6d06dd80212d603e1"
  },
  "kernelspec": {
   "display_name": "Python 3.8.10 ('env': venv)",
   "language": "python",
   "name": "python3"
  },
  "language_info": {
   "codemirror_mode": {
    "name": "ipython",
    "version": 3
   },
   "file_extension": ".py",
   "mimetype": "text/x-python",
   "name": "python",
   "nbconvert_exporter": "python",
   "pygments_lexer": "ipython3",
   "version": "3.8.10"
  },
  "orig_nbformat": 4
 },
 "nbformat": 4,
 "nbformat_minor": 2
}
